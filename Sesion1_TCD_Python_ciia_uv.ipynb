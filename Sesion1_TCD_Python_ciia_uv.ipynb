{
  "nbformat": 4,
  "nbformat_minor": 0,
  "metadata": {
    "kernelspec": {
      "name": "python3",
      "display_name": "Python 3"
    },
    "colab": {
      "name": "00_Ejemplo_TiposDatos.ipynb",
      "provenance": [],
      "collapsed_sections": [],
      "toc_visible": true,
      "include_colab_link": true
    }
  },
  "cells": [
    {
      "cell_type": "markdown",
      "metadata": {
        "id": "view-in-github",
        "colab_type": "text"
      },
      "source": [
        "<a href=\"https://colab.research.google.com/github/htapia/TallerPythonIntroCienciaDatos/blob/ciia/Sesion1_TCD_Python_ciia_uv.ipynb\" target=\"_parent\"><img src=\"https://colab.research.google.com/assets/colab-badge.svg\" alt=\"Open In Colab\"/></a>"
      ]
    },
    {
      "cell_type": "markdown",
      "metadata": {
        "id": "VwxI8uyyXy9S",
        "colab_type": "text"
      },
      "source": [
        "# Introduccion a la Ciencia de Datos\n",
        "Overview\n",
        "Duration: 0:02:00\n",
        "\n",
        "En estas horas vamos a recorrer el proceso general de Ciencia de Datos con un experimento simple del cual vamos a adquirir datos y a partir de ellos desarrollar un modelo a partir del metodo conocido como regresion lineal.\n",
        "\n",
        "<!-- A traves de una descripcion matricial del problema de determinar los parametros optimos para una modelo lineal entre la variable objetivo y los atributos, aplicada a un problema sencillo de determinar la relacion lineal $T^2 \\propto L$ entre un pendulo simple, se introducce el algoritmo del descenso por el gradiente. Despues se implementa el algoritmo usando metodos vectoriales y procurando evitar repeticiones usando `for` o metodos similares y finalmente se discute un algoritmo que puede actualizarse en tiempo casi real.  -->"
      ]
    },
    {
      "cell_type": "markdown",
      "metadata": {
        "id": "H7xsPMv5LEd1",
        "colab_type": "text"
      },
      "source": [
        "## Adquisicion de datos\n",
        "\n",
        "Los datos que vamos a importar son tomados del experimento realizado en el aula."
      ]
    },
    {
      "cell_type": "code",
      "metadata": {
        "id": "O7UUMabz8PPC",
        "colab_type": "code",
        "colab": {}
      },
      "source": [
        "url_datos='https://raw.githubusercontent.com/htapia/TallerPythonIntroCienciaDatos/ciia/notebooks/data/dataTaller.json'"
      ],
      "execution_count": 0,
      "outputs": []
    },
    {
      "cell_type": "markdown",
      "metadata": {
        "id": "hhO-2r0cEAd0",
        "colab_type": "text"
      },
      "source": [
        "La siguiente funcion de utilidad nos permite obtener los datos de la url; noten que unicamente sirve para datos en el formato `json`"
      ]
    },
    {
      "cell_type": "code",
      "metadata": {
        "id": "0C-nkeVVCnjq",
        "colab_type": "code",
        "colab": {}
      },
      "source": [
        "def get_dataFile(furl):\n",
        "  import urllib.request, json\n",
        "  with urllib.request.urlopen(furl) as url:\n",
        "    return json.loads(url.read().decode())"
      ],
      "execution_count": 0,
      "outputs": []
    },
    {
      "cell_type": "markdown",
      "metadata": {
        "id": "KOWvu7gDEMqr",
        "colab_type": "text"
      },
      "source": [
        "La funcion regresa el archivo en formato `json` que esta disponible en el url indicado. En el ejercicio el archivo consiste de dos listas "
      ]
    },
    {
      "cell_type": "code",
      "metadata": {
        "id": "fwFMUCidFlAz",
        "colab_type": "code",
        "colab": {}
      },
      "source": [
        "time, acceleration = get_dataFile(url_datos)"
      ],
      "execution_count": 0,
      "outputs": []
    },
    {
      "cell_type": "markdown",
      "metadata": {
        "id": "OACx7PeBEe1A",
        "colab_type": "text"
      },
      "source": [
        "Usaremos primero la libreria `pandas` para procesar los datos"
      ]
    },
    {
      "cell_type": "code",
      "metadata": {
        "id": "sYJ_m_kjHRHJ",
        "colab_type": "code",
        "colab": {}
      },
      "source": [
        "import pandas as pd"
      ],
      "execution_count": 0,
      "outputs": []
    },
    {
      "cell_type": "markdown",
      "metadata": {
        "id": "htPWqSNiEvug",
        "colab_type": "text"
      },
      "source": [
        "A la lista de datos con el tiempo la representaremos como un objeto `Series` de la libreria"
      ]
    },
    {
      "cell_type": "code",
      "metadata": {
        "id": "4vETu0qPF2HX",
        "colab_type": "code",
        "colab": {}
      },
      "source": [
        "tSeries = pd.Series(time)"
      ],
      "execution_count": 0,
      "outputs": []
    },
    {
      "cell_type": "markdown",
      "metadata": {
        "id": "OZ0GiOlBE63j",
        "colab_type": "text"
      },
      "source": [
        "### Algunos atributos del objeto `Series`"
      ]
    },
    {
      "cell_type": "markdown",
      "metadata": {
        "id": "vDrpuMeRFC77",
        "colab_type": "text"
      },
      "source": [
        "Usa `head()` para ver los primero cinco elementos de la serie"
      ]
    },
    {
      "cell_type": "code",
      "metadata": {
        "id": "LUQmOgogE12L",
        "colab_type": "code",
        "outputId": "76f902ef-695b-45da-b626-9a679d06bf41",
        "colab": {
          "base_uri": "https://localhost:8080/",
          "height": 121
        }
      },
      "source": [
        "tSeries.head()"
      ],
      "execution_count": 0,
      "outputs": [
        {
          "output_type": "execute_result",
          "data": {
            "text/plain": [
              "0    0.00\n",
              "1    0.05\n",
              "2    0.10\n",
              "3    0.15\n",
              "4    0.20\n",
              "dtype: float64"
            ]
          },
          "metadata": {
            "tags": []
          },
          "execution_count": 8
        }
      ]
    },
    {
      "cell_type": "markdown",
      "metadata": {
        "id": "HznbCkPeFH9l",
        "colab_type": "text"
      },
      "source": [
        "Usa `describe()` para un resumen estadistico del contenido de la series"
      ]
    },
    {
      "cell_type": "code",
      "metadata": {
        "id": "Hpm6rTcWE_WF",
        "colab_type": "code",
        "outputId": "6479a749-12df-440c-89c2-72f46701428e",
        "colab": {
          "base_uri": "https://localhost:8080/",
          "height": 173
        }
      },
      "source": [
        "tSeries.describe()"
      ],
      "execution_count": 0,
      "outputs": [
        {
          "output_type": "execute_result",
          "data": {
            "text/plain": [
              "count    1000.000000\n",
              "mean       24.975000\n",
              "std        14.440972\n",
              "min         0.000000\n",
              "25%        12.487500\n",
              "50%        24.975000\n",
              "75%        37.462500\n",
              "max        49.950000\n",
              "dtype: float64"
            ]
          },
          "metadata": {
            "tags": []
          },
          "execution_count": 9
        }
      ]
    },
    {
      "cell_type": "markdown",
      "metadata": {
        "id": "ZqYUJtwGFRoj",
        "colab_type": "text"
      },
      "source": [
        "### Creando el `DataFrame`\n",
        "\n",
        "Los datos del experimento los vamos a contener en un objeto llamado `DataFrame` de la siguiente forma:"
      ]
    },
    {
      "cell_type": "code",
      "metadata": {
        "id": "75DSx8gUFovb",
        "colab_type": "code",
        "colab": {}
      },
      "source": [
        "df = pd.DataFrame(acceleration, columns=[\"ax\",\"ay\",\"az\"])"
      ],
      "execution_count": 0,
      "outputs": []
    },
    {
      "cell_type": "markdown",
      "metadata": {
        "id": "8dhipgSlFfef",
        "colab_type": "text"
      },
      "source": [
        "Luego le agregamos la columna con la serie de los valores de tiempo"
      ]
    },
    {
      "cell_type": "code",
      "metadata": {
        "id": "-hIOTs86FtpI",
        "colab_type": "code",
        "colab": {}
      },
      "source": [
        "df['t']=tSeries"
      ],
      "execution_count": 0,
      "outputs": []
    },
    {
      "cell_type": "markdown",
      "metadata": {
        "id": "zg9JaCUkFigF",
        "colab_type": "text"
      },
      "source": [
        "Veamos los primeros elementos del `DataFrame`"
      ]
    },
    {
      "cell_type": "code",
      "metadata": {
        "id": "-KNhzdl0GlXi",
        "colab_type": "code",
        "outputId": "fb026f95-6008-4db3-b8ce-52087c2eed6c",
        "colab": {
          "base_uri": "https://localhost:8080/",
          "height": 206
        }
      },
      "source": [
        "df.head()"
      ],
      "execution_count": 0,
      "outputs": [
        {
          "output_type": "execute_result",
          "data": {
            "text/html": [
              "<div>\n",
              "<style scoped>\n",
              "    .dataframe tbody tr th:only-of-type {\n",
              "        vertical-align: middle;\n",
              "    }\n",
              "\n",
              "    .dataframe tbody tr th {\n",
              "        vertical-align: top;\n",
              "    }\n",
              "\n",
              "    .dataframe thead th {\n",
              "        text-align: right;\n",
              "    }\n",
              "</style>\n",
              "<table border=\"1\" class=\"dataframe\">\n",
              "  <thead>\n",
              "    <tr style=\"text-align: right;\">\n",
              "      <th></th>\n",
              "      <th>ax</th>\n",
              "      <th>ay</th>\n",
              "      <th>az</th>\n",
              "      <th>t</th>\n",
              "    </tr>\n",
              "  </thead>\n",
              "  <tbody>\n",
              "    <tr>\n",
              "      <th>0</th>\n",
              "      <td>0.016822</td>\n",
              "      <td>0.395247</td>\n",
              "      <td>-0.918421</td>\n",
              "      <td>0.00</td>\n",
              "    </tr>\n",
              "    <tr>\n",
              "      <th>1</th>\n",
              "      <td>0.011067</td>\n",
              "      <td>0.476621</td>\n",
              "      <td>-0.879039</td>\n",
              "      <td>0.05</td>\n",
              "    </tr>\n",
              "    <tr>\n",
              "      <th>2</th>\n",
              "      <td>0.004252</td>\n",
              "      <td>0.538847</td>\n",
              "      <td>-0.842393</td>\n",
              "      <td>0.10</td>\n",
              "    </tr>\n",
              "    <tr>\n",
              "      <th>3</th>\n",
              "      <td>-0.025437</td>\n",
              "      <td>0.602143</td>\n",
              "      <td>-0.797983</td>\n",
              "      <td>0.15</td>\n",
              "    </tr>\n",
              "    <tr>\n",
              "      <th>4</th>\n",
              "      <td>-0.028130</td>\n",
              "      <td>0.709080</td>\n",
              "      <td>-0.704566</td>\n",
              "      <td>0.20</td>\n",
              "    </tr>\n",
              "  </tbody>\n",
              "</table>\n",
              "</div>"
            ],
            "text/plain": [
              "         ax        ay        az     t\n",
              "0  0.016822  0.395247 -0.918421  0.00\n",
              "1  0.011067  0.476621 -0.879039  0.05\n",
              "2  0.004252  0.538847 -0.842393  0.10\n",
              "3 -0.025437  0.602143 -0.797983  0.15\n",
              "4 -0.028130  0.709080 -0.704566  0.20"
            ]
          },
          "metadata": {
            "tags": []
          },
          "execution_count": 15
        }
      ]
    },
    {
      "cell_type": "markdown",
      "metadata": {
        "id": "MbCCJqNhFmUG",
        "colab_type": "text"
      },
      "source": [
        "## Exploracion y visualizacion\n",
        "\n",
        "Podemos graficar especificando que columna queremos en cada eje"
      ]
    },
    {
      "cell_type": "code",
      "metadata": {
        "id": "4FwiPJ7KGosq",
        "colab_type": "code",
        "outputId": "ff467d57-b9c5-4bfd-e8c3-12d19660abde",
        "colab": {
          "base_uri": "https://localhost:8080/",
          "height": 300
        }
      },
      "source": [
        "df.plot(x='t',y=['ax', 'ay','az'])"
      ],
      "execution_count": 0,
      "outputs": [
        {
          "output_type": "execute_result",
          "data": {
            "text/plain": [
              "<matplotlib.axes._subplots.AxesSubplot at 0x7fe4979e6940>"
            ]
          },
          "metadata": {
            "tags": []
          },
          "execution_count": 24
        },
        {
          "output_type": "display_data",
          "data": {
            "image/png": "[encoded data removed]",
            "text/plain": [
              "<Figure size 432x288 with 1 Axes>"
            ]
          },
          "metadata": {
            "tags": []
          }
        }
      ]
    },
    {
      "cell_type": "markdown",
      "metadata": {
        "id": "BBCwUW6_F8_H",
        "colab_type": "text"
      },
      "source": [
        "Visualizamos unicamente una region de interes"
      ]
    },
    {
      "cell_type": "code",
      "metadata": {
        "id": "zPR4C3CFOxAu",
        "colab_type": "code",
        "outputId": "4dd927f2-ac98-4f59-a3c8-a7f08b12a450",
        "colab": {
          "base_uri": "https://localhost:8080/",
          "height": 298
        }
      },
      "source": [
        "df.plot(x='t',y='ax',xlim=[20,40])"
      ],
      "execution_count": 0,
      "outputs": [
        {
          "output_type": "execute_result",
          "data": {
            "text/plain": [
              "<matplotlib.axes._subplots.AxesSubplot at 0x7fe49740be80>"
            ]
          },
          "metadata": {
            "tags": []
          },
          "execution_count": 26
        },
        {
          "output_type": "display_data",
          "data": {
            "image/png": "[encoded data removed]",
            "text/plain": [
              "<Figure size 432x288 with 1 Axes>"
            ]
          },
          "metadata": {
            "tags": []
          }
        }
      ]
    },
    {
      "cell_type": "markdown",
      "metadata": {
        "id": "6po6eusZF_IX",
        "colab_type": "text"
      },
      "source": [
        "## Preprocesamiento y filtrado\n",
        "\n",
        "Creamos una condicion logica para seleccionar la region de interes"
      ]
    },
    {
      "cell_type": "code",
      "metadata": {
        "id": "sdM3meR5PSN8",
        "colab_type": "code",
        "outputId": "98e65aa1-9338-4734-f148-b39cc2b0eecb",
        "colab": {
          "base_uri": "https://localhost:8080/",
          "height": 221
        }
      },
      "source": [
        "df['t']<40"
      ],
      "execution_count": 0,
      "outputs": [
        {
          "output_type": "execute_result",
          "data": {
            "text/plain": [
              "0       True\n",
              "1       True\n",
              "2       True\n",
              "3       True\n",
              "4       True\n",
              "       ...  \n",
              "995    False\n",
              "996    False\n",
              "997    False\n",
              "998    False\n",
              "999    False\n",
              "Name: t, Length: 1000, dtype: bool"
            ]
          },
          "metadata": {
            "tags": []
          },
          "execution_count": 22
        }
      ]
    },
    {
      "cell_type": "code",
      "metadata": {
        "id": "lQm6IfjbROhs",
        "colab_type": "code",
        "colab": {}
      },
      "source": [
        "roi = df.loc[(df['t'] > 20) & (df['t'] < 37.5), ['t','ax']] #'ax':'t']\n"
      ],
      "execution_count": 0,
      "outputs": []
    },
    {
      "cell_type": "markdown",
      "metadata": {
        "id": "UOepa801GnMH",
        "colab_type": "text"
      },
      "source": [
        "Visualizamos que es la region que nos interesa"
      ]
    },
    {
      "cell_type": "code",
      "metadata": {
        "id": "Ls9tR9YVRdgg",
        "colab_type": "code",
        "outputId": "87189ff7-17e5-4a66-99c4-57b60d4283ef",
        "colab": {
          "base_uri": "https://localhost:8080/",
          "height": 296
        }
      },
      "source": [
        "roi.plot(x='t',y='ax')"
      ],
      "execution_count": 0,
      "outputs": [
        {
          "output_type": "execute_result",
          "data": {
            "text/plain": [
              "<matplotlib.axes._subplots.AxesSubplot at 0x7fe4972be550>"
            ]
          },
          "metadata": {
            "tags": []
          },
          "execution_count": 35
        },
        {
          "output_type": "display_data",
          "data": {
            "image/png": "[encoded data removed]",
            "text/plain": [
              "<Figure size 432x288 with 1 Axes>"
            ]
          },
          "metadata": {
            "tags": []
          }
        }
      ]
    },
    {
      "cell_type": "markdown",
      "metadata": {
        "id": "7nWPMGmcGqe8",
        "colab_type": "text"
      },
      "source": [
        "## Extraccion de caracteristicas o atributos\n",
        "\n",
        "De los datos queremos extraer atributos o caracteristicas que nos ayuden a generar un bueno modelo. En este caso las diferencias en tiempo entre picos sucesivos indican el periodo de oscilacion (y se relacionan con la gravedad!)"
      ]
    },
    {
      "cell_type": "code",
      "metadata": {
        "id": "NkSpnJy2RmjA",
        "colab_type": "code",
        "colab": {}
      },
      "source": [
        "import matplotlib.pyplot as plt\n",
        "\n",
        "from scipy.signal import find_peaks\n",
        "import numpy as np\n"
      ],
      "execution_count": 0,
      "outputs": []
    },
    {
      "cell_type": "markdown",
      "metadata": {
        "id": "s7t7ruS9G9k7",
        "colab_type": "text"
      },
      "source": [
        "Extramos todos los maximos de la señal usando la funcion `find_peaks` disponble en la libreria `scipy.signal` y los visualizamos"
      ]
    },
    {
      "cell_type": "code",
      "metadata": {
        "id": "KVlpqEwBTzpn",
        "colab_type": "code",
        "colab": {}
      },
      "source": [
        "z = roi.values[:,1]\n",
        "peaks, _ = find_peaks(z, height=0)"
      ],
      "execution_count": 0,
      "outputs": []
    },
    {
      "cell_type": "markdown",
      "metadata": {
        "id": "gPaZPxruIDFx",
        "colab_type": "text"
      },
      "source": [
        "La lista `peaks` que se obtiene de la funcion `find_peaks` es una lista de indices en donde se encontraron los picos de la señal"
      ]
    },
    {
      "cell_type": "code",
      "metadata": {
        "id": "pWrtbX3xIUBy",
        "colab_type": "code",
        "outputId": "39cdcefa-fe96-4d35-e5b6-3a6ec201a700",
        "colab": {
          "base_uri": "https://localhost:8080/",
          "height": 34
        }
      },
      "source": [
        "peaks"
      ],
      "execution_count": 0,
      "outputs": [
        {
          "output_type": "execute_result",
          "data": {
            "text/plain": [
              "array([  1,  31,  62,  93, 125, 155, 186, 217, 248, 279, 309, 340])"
            ]
          },
          "metadata": {
            "tags": []
          },
          "execution_count": 40
        }
      ]
    },
    {
      "cell_type": "markdown",
      "metadata": {
        "id": "ixSRG7ofIUzx",
        "colab_type": "text"
      },
      "source": [
        "Visualizamos los picos con una grafica"
      ]
    },
    {
      "cell_type": "code",
      "metadata": {
        "id": "_CYit-PxIYd-",
        "colab_type": "code",
        "outputId": "4a8683d6-9fed-4494-e364-aa8f94c84d2b",
        "colab": {
          "base_uri": "https://localhost:8080/",
          "height": 265
        }
      },
      "source": [
        "plt.plot(z)\n",
        "plt.plot(peaks, z[peaks], \"x\")\n",
        "plt.plot(np.zeros_like(z), \"--\", color=\"gray\")\n",
        "plt.show()"
      ],
      "execution_count": 0,
      "outputs": [
        {
          "output_type": "display_data",
          "data": {
            "image/png": "[encoded data removed]",
            "text/plain": [
              "<Figure size 432x288 with 1 Axes>"
            ]
          },
          "metadata": {
            "tags": []
          }
        }
      ]
    },
    {
      "cell_type": "markdown",
      "metadata": {
        "id": "roDSqVbCIawO",
        "colab_type": "text"
      },
      "source": [
        "y determinamos los tiempos en los que ocurren los picos usando la lista de indices para obtener los tiempos correspondientes:"
      ]
    },
    {
      "cell_type": "code",
      "metadata": {
        "id": "xKpRntywTU5O",
        "colab_type": "code",
        "colab": {}
      },
      "source": [
        "t = roi.values[:,0][peaks]"
      ],
      "execution_count": 0,
      "outputs": []
    },
    {
      "cell_type": "markdown",
      "metadata": {
        "id": "cV4ejKNMIhBe",
        "colab_type": "text"
      },
      "source": [
        "Las diferencias entre tiempos consecutivos son los periodos de la oscilacion"
      ]
    },
    {
      "cell_type": "code",
      "metadata": {
        "id": "yF35t_pXUkvc",
        "colab_type": "code",
        "outputId": "fbe612ff-6faa-40b9-a692-c9eb06741c43",
        "colab": {
          "base_uri": "https://localhost:8080/",
          "height": 34
        }
      },
      "source": [
        "periodos = np.diff(t)\n",
        "periodos"
      ],
      "execution_count": 0,
      "outputs": [
        {
          "output_type": "execute_result",
          "data": {
            "text/plain": [
              "array([1.5 , 1.55, 1.55, 1.6 , 1.5 , 1.55, 1.55, 1.55, 1.55, 1.5 , 1.55])"
            ]
          },
          "metadata": {
            "tags": []
          },
          "execution_count": 55
        }
      ]
    },
    {
      "cell_type": "markdown",
      "metadata": {
        "id": "ZRPoO_pKMl66",
        "colab_type": "text"
      },
      "source": [
        "### *RETO*\n",
        "\n",
        "> Cuales son los periodos que se obtienen si en lugar de usar los maximos de la señal se usan los valores minimos? "
      ]
    },
    {
      "cell_type": "markdown",
      "metadata": {
        "id": "M2heDtqlJrj1",
        "colab_type": "text"
      },
      "source": [
        "#### Otras forma de hacerlo \n",
        "\n",
        "Se puede obtener el mismo resultado con el siguiente codigo:"
      ]
    },
    {
      "cell_type": "code",
      "metadata": {
        "id": "hsB-1zFDInWf",
        "colab_type": "code",
        "outputId": "379e51e7-0b9d-4ef8-b385-6bc7884f2980",
        "colab": {
          "base_uri": "https://localhost:8080/",
          "height": 34
        }
      },
      "source": [
        "t[1:] - t[:-1]"
      ],
      "execution_count": 0,
      "outputs": [
        {
          "output_type": "execute_result",
          "data": {
            "text/plain": [
              "array([1.5 , 1.55, 1.55, 1.6 , 1.5 , 1.55, 1.55, 1.55, 1.55, 1.5 , 1.55])"
            ]
          },
          "metadata": {
            "tags": []
          },
          "execution_count": 54
        }
      ]
    },
    {
      "cell_type": "markdown",
      "metadata": {
        "id": "AGMxULGxKEgI",
        "colab_type": "text"
      },
      "source": [
        "### Otros resultados (para los valientes)\n",
        "\n",
        "El inverso del periodo es la frecuencia"
      ]
    },
    {
      "cell_type": "code",
      "metadata": {
        "id": "fauuAc95b08r",
        "colab_type": "code",
        "outputId": "9fde058f-af76-430b-d3a8-6757e8cf9cf3",
        "colab": {
          "base_uri": "https://localhost:8080/",
          "height": 85
        }
      },
      "source": [
        "print(1/periodos)"
      ],
      "execution_count": 0,
      "outputs": [
        {
          "output_type": "stream",
          "text": [
            "[0.60606061 0.71428571 0.64516129 0.71428571 0.66666667 0.66666667\n",
            " 0.66666667 0.68965517 0.66666667 0.66666667 0.66666667 0.68965517\n",
            " 0.68965517 0.66666667 0.64516129 0.68965517 0.66666667 0.66666667\n",
            " 0.66666667 0.66666667 0.68965517 0.66666667 0.95238095]\n"
          ],
          "name": "stdout"
        }
      ]
    },
    {
      "cell_type": "markdown",
      "metadata": {
        "id": "wmdm0OqSK_Ew",
        "colab_type": "text"
      },
      "source": [
        "Vamos a extraer el periodo a partir de una tecnica mas sofisticada basada en el analisis de Fourier"
      ]
    },
    {
      "cell_type": "code",
      "metadata": {
        "id": "omu8wGeQVcQv",
        "colab_type": "code",
        "colab": {}
      },
      "source": [
        "import numpy.fft as fft"
      ],
      "execution_count": 0,
      "outputs": []
    },
    {
      "cell_type": "code",
      "metadata": {
        "id": "naQHjeyfVr1z",
        "colab_type": "code",
        "colab": {}
      },
      "source": [
        "# Time domain signal\n",
        "N = z.size"
      ],
      "execution_count": 0,
      "outputs": []
    },
    {
      "cell_type": "code",
      "metadata": {
        "id": "nbBuuJdJWPkx",
        "colab_type": "code",
        "colab": {}
      },
      "source": [
        "Fs = 50000 # 50 milisecs\n",
        "# DFT\n",
        "X = np.fft.fft(z)\n",
        "X_db = 20*np.log10(2*np.abs(X)/N)\n",
        "#f = np.fft.fftfreq(N, 1/Fs)\n",
        "f = np.arange(0, N)*Fs/N"
      ],
      "execution_count": 0,
      "outputs": []
    },
    {
      "cell_type": "code",
      "metadata": {
        "id": "fiFLm2jaWf4i",
        "colab_type": "code",
        "outputId": "921ae0d8-fd24-4ac5-8733-6700e0e7da04",
        "colab": {
          "base_uri": "https://localhost:8080/",
          "height": 265
        }
      },
      "source": [
        "plt.plot(f, X_db)\n",
        "plt.grid()\n",
        "plt.show()"
      ],
      "execution_count": 0,
      "outputs": [
        {
          "output_type": "display_data",
          "data": {
            "image/png": "[encoded data removed]",
            "text/plain": [
              "<Figure size 432x288 with 1 Axes>"
            ]
          },
          "metadata": {
            "tags": []
          }
        }
      ]
    },
    {
      "cell_type": "code",
      "metadata": {
        "id": "ZK2hO1znXQVP",
        "colab_type": "code",
        "outputId": "640c5c0d-97c3-4378-8ca0-0d639efb918c",
        "colab": {
          "base_uri": "https://localhost:8080/",
          "height": 34
        }
      },
      "source": [
        "X_db.max()"
      ],
      "execution_count": 0,
      "outputs": [
        {
          "output_type": "execute_result",
          "data": {
            "text/plain": [
              "-10.99769122773469"
            ]
          },
          "metadata": {
            "tags": []
          },
          "execution_count": 82
        }
      ]
    },
    {
      "cell_type": "code",
      "metadata": {
        "id": "s6B0FD4IXZOw",
        "colab_type": "code",
        "outputId": "d2d3ed8d-8f91-4b72-f224-4183242eaccf",
        "colab": {
          "base_uri": "https://localhost:8080/",
          "height": 34
        }
      },
      "source": [
        "f[X_db.argmax()]"
      ],
      "execution_count": 0,
      "outputs": [
        {
          "output_type": "execute_result",
          "data": {
            "text/plain": [
              "1645.2074391988556"
            ]
          },
          "metadata": {
            "tags": []
          },
          "execution_count": 83
        }
      ]
    },
    {
      "cell_type": "code",
      "metadata": {
        "id": "AqX4O5a1Y2tn",
        "colab_type": "code",
        "outputId": "4464f56f-4f00-451f-aacf-2de262f453b3",
        "colab": {
          "base_uri": "https://localhost:8080/",
          "height": 34
        }
      },
      "source": [
        "f[X_db.argmax()]/1000."
      ],
      "execution_count": 0,
      "outputs": [
        {
          "output_type": "execute_result",
          "data": {
            "text/plain": [
              "1.6452074391988556"
            ]
          },
          "metadata": {
            "tags": []
          },
          "execution_count": 85
        }
      ]
    },
    {
      "cell_type": "code",
      "metadata": {
        "id": "xnHbsacMZVii",
        "colab_type": "code",
        "outputId": "13c2f0a3-5978-4a02-b658-e550c2308f62",
        "colab": {
          "base_uri": "https://localhost:8080/",
          "height": 34
        }
      },
      "source": [
        "temporal_window = t[-1]-t[0] #seconds\n",
        "temporal_window"
      ],
      "execution_count": 0,
      "outputs": [
        {
          "output_type": "execute_result",
          "data": {
            "text/plain": [
              "33.85"
            ]
          },
          "metadata": {
            "tags": []
          },
          "execution_count": 86
        }
      ]
    },
    {
      "cell_type": "code",
      "metadata": {
        "id": "Q3TeSNBDZeG9",
        "colab_type": "code",
        "colab": {}
      },
      "source": [
        "N = len(z) #datapoints\n",
        "T = 60./(temporal_window/N) #Sample rate average (readings/sec)"
      ],
      "execution_count": 0,
      "outputs": []
    },
    {
      "cell_type": "code",
      "metadata": {
        "id": "b5y3LbSYXcG-",
        "colab_type": "code",
        "outputId": "2a3bb21e-0e31-4d64-f42f-42b7e86ae376",
        "colab": {
          "base_uri": "https://localhost:8080/",
          "height": 68
        }
      },
      "source": [
        "a=np.abs(fft.rfft(z, n=z.size))\n",
        "a[0]=0 #Not sure if this is a good idea but seems to help with choppy data..\n",
        "freqs = fft.rfftfreq(z.size, d=1./T)\n",
        "freqs = np.divide(60,freqs)\n",
        "\n",
        "max_freq = freqs[np.argmax(a)]\n",
        "print(\"Peak found at %s second period (%s minutes)\" % (max_freq, max_freq/60))"
      ],
      "execution_count": 0,
      "outputs": [
        {
          "output_type": "stream",
          "text": [
            "Peak found at 1.4717391304347827 second period (0.024528985507246377 minutes)\n"
          ],
          "name": "stdout"
        },
        {
          "output_type": "stream",
          "text": [
            "/usr/local/lib/python3.6/dist-packages/ipykernel_launcher.py:4: RuntimeWarning: divide by zero encountered in true_divide\n",
            "  after removing the cwd from sys.path.\n"
          ],
          "name": "stderr"
        }
      ]
    },
    {
      "cell_type": "code",
      "metadata": {
        "id": "RjvvdZh7a5Nt",
        "colab_type": "code",
        "outputId": "a52bc7b7-69eb-4de7-b08b-b6fd78bf7905",
        "colab": {
          "base_uri": "https://localhost:8080/",
          "height": 266
        }
      },
      "source": [
        "plt.subplot(211)\n",
        "plt.plot(freqs,a)\n",
        "plt.subplot(212)\n",
        "plt.plot(np.linspace(0,temporal_window,z.size),z)\n",
        "plt.show()"
      ],
      "execution_count": 0,
      "outputs": [
        {
          "output_type": "display_data",
          "data": {
            "image/png": "[encoded data removed]",
            "text/plain": [
              "<Figure size 432x288 with 2 Axes>"
            ]
          },
          "metadata": {
            "tags": []
          }
        }
      ]
    }
  ]
}