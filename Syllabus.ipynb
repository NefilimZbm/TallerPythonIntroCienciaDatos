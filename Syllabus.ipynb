{
  "nbformat": 4,
  "nbformat_minor": 0,
  "metadata": {
    "colab": {
      "name": "Syllabus.ipynb",
      "provenance": [],
      "toc_visible": true,
      "authorship_tag": "ABX9TyPwAs6M2Lu+15jJTYQ/3nAM",
      "include_colab_link": true
    },
    "kernelspec": {
      "name": "python3",
      "display_name": "Python 3"
    }
  },
  "cells": [
    {
      "cell_type": "markdown",
      "metadata": {
        "id": "view-in-github",
        "colab_type": "text"
      },
      "source": [
        "<a href=\"https://colab.research.google.com/github/htapia/TallerPythonIntroCienciaDatos/blob/fis_metnum/Syllabus.ipynb\" target=\"_parent\"><img src=\"https://colab.research.google.com/assets/colab-badge.svg\" alt=\"Open In Colab\"/></a>"
      ]
    },
    {
      "cell_type": "markdown",
      "metadata": {
        "id": "Zavz273-Juwm",
        "colab_type": "text"
      },
      "source": [
        "## Métodos numéricos\n",
        "### Horacio Tapia-McClung \n",
        "#### `htapia@uv.mx`\n"
      ]
    },
    {
      "cell_type": "markdown",
      "metadata": {
        "id": "zfFbrc95QdzM",
        "colab_type": "text"
      },
      "source": [
        "\n",
        "> Contenido\n",
        "\n",
        "1. Introduccion básica al uso de Python\n",
        "2. Soluciones a ecuaciones lineales\n",
        "3. Interpolación y ajustes\n",
        "3. Raíces y ecuaciones trascendentales\n",
        "4. Integración y diferenciación numérica\n",
        "5. Ecuaciones diferenciales ordinarias\n"
      ]
    },
    {
      "cell_type": "markdown",
      "metadata": {
        "id": "tOIBAHAZQcN4",
        "colab_type": "text"
      },
      "source": [
        ""
      ]
    },
    {
      "cell_type": "markdown",
      "metadata": {
        "id": "GTZGcLmEQbjV",
        "colab_type": "text"
      },
      "source": [
        "\n",
        "\n",
        "> Bibliografia\n",
        "\n",
        "1. [Numerical Methods in Engineering with Python 3](https://www.cambridge.org/9781107033856), Jaan Kiusalaas, Cambridge University Press, 2013\n",
        "2. [Learning Scientific Programming with Python](https://doi.org/10.1017/CBO9781139871754), Christian Hill, Cambridge University Press, 2016"
      ]
    }
  ]
}